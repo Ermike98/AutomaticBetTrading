{
 "cells": [
  {
   "cell_type": "code",
   "execution_count": 1,
   "id": "bored-steel",
   "metadata": {},
   "outputs": [
    {
     "name": "stderr",
     "output_type": "stream",
     "text": [
      "C:\\Users\\miche\\anaconda3\\envs\\webautomation\\lib\\site-packages\\distributed\\node.py:151: UserWarning: Port 8787 is already in use.\n",
      "Perhaps you already have a cluster running?\n",
      "Hosting the HTTP server on port 63192 instead\n",
      "  warnings.warn(\n"
     ]
    },
    {
     "data": {
      "application/vnd.jupyter.widget-view+json": {
       "model_id": "99d7042d4705409fb535e572be0813da",
       "version_major": 2,
       "version_minor": 0
      },
      "text/plain": [
       "VBox(children=(HTML(value='<h2>LocalCluster</h2>'), HBox(children=(HTML(value='\\n<div>\\n  <style scoped>\\n    …"
      ]
     },
     "metadata": {},
     "output_type": "display_data"
    }
   ],
   "source": [
    "from single_bet_type_analyzer import SingleBetTypeAnalyzer\n",
    "from dask.distributed import LocalCluster\n",
    "from scrapers.betflag import BetflagScraper\n",
    "from scrapers.betfair import BetfairScraper\n",
    "import pandas as pd\n",
    "import seaborn as sns\n",
    "import matplotlib.pyplot as plt\n",
    "import ipywidgets as widgets\n",
    "from IPython.display import display, clear_output\n",
    "import winsound\n",
    "import time\n",
    "\n",
    "def play_beep():\n",
    "    for i in range(3):\n",
    "        for j in range(2):\n",
    "            winsound.Beep(1000, 100)\n",
    "            time.sleep(0.05)\n",
    "        time.sleep(0.7)\n",
    "        \n",
    "def clean_df(_df, wealth):\n",
    "    _df = _df.drop(columns=['sport', 'back_size', 'lay_size', 'prob',\n",
    "                            'p2', 'p1', 'r1', 'r2']).rename(columns={'bet_type': 'scommessa',\n",
    "                                                                     'back_price': 'punta',\n",
    "                                                                     'site1': 'sito_punta',\n",
    "                                                                     'lay_price': 'banca',\n",
    "                                                                     'site2': 'sito_banca',\n",
    "                                                                     'q1': 'puntata',\n",
    "                                                                     'q2': 'bancata'})\n",
    "    _df['puntata'] *= wealth\n",
    "    _df['bancata'] *= wealth\n",
    "    return _df\n",
    "\n",
    "wealth = 10\n",
    "\n",
    "cluster = LocalCluster(processes=False)\n",
    "cluster"
   ]
  },
  {
   "cell_type": "code",
   "execution_count": 2,
   "id": "1429b314-0b9c-4c2b-9e7f-258dc0e0c56a",
   "metadata": {},
   "outputs": [
    {
     "data": {
      "application/vnd.jupyter.widget-view+json": {
       "model_id": "e76f962ce74f423fabe41bb66a1e5a40",
       "version_major": 2,
       "version_minor": 0
      },
      "text/plain": [
       "VBox(children=(Dropdown(description='Sport:', options=('calcio', 'tennis', 'basket'), value='calcio'), Dropdow…"
      ]
     },
     "metadata": {},
     "output_type": "display_data"
    }
   ],
   "source": [
    "sport = widgets.Dropdown(\n",
    "    options=['calcio', 'tennis', 'basket'],\n",
    "    value='calcio',\n",
    "    description='Sport:',\n",
    "    disabled=False,\n",
    ")\n",
    "bet_type = widgets.Dropdown(\n",
    "    options=['1x2', '12', 'uo1.5', 'uo2.5', 'uo3.5', 'uo4.5'],\n",
    "    value='1x2',\n",
    "    description='Bet Type:',\n",
    "    disabled=False,\n",
    ")\n",
    "offline = widgets.Checkbox(\n",
    "    value=True,\n",
    "    description='Non-Live',\n",
    "    disabled=False\n",
    ")\n",
    "\n",
    "live = widgets.Checkbox(\n",
    "    value=True,\n",
    "    description='Live',\n",
    "    disabled=False\n",
    ")\n",
    "\n",
    "headless = widgets.Checkbox(\n",
    "    value=True,\n",
    "    description='Headless',\n",
    "    disabled=False\n",
    ")\n",
    "widgets.VBox([sport, bet_type, offline, live, headless])"
   ]
  },
  {
   "cell_type": "code",
   "execution_count": 5,
   "id": "entire-singles",
   "metadata": {
    "scrolled": false
   },
   "outputs": [
    {
     "name": "stderr",
     "output_type": "stream",
     "text": [
      "[WDM] - ====== WebDriver manager ======\n",
      "[WDM] - Current google-chrome version is 91.0.4472\n",
      "[WDM] - Get LATEST driver version for 91.0.4472\n"
     ]
    },
    {
     "name": "stdout",
     "output_type": "stream",
     "text": [
      "\n",
      "\n"
     ]
    },
    {
     "name": "stderr",
     "output_type": "stream",
     "text": [
      "[WDM] - Driver [C:\\Users\\miche\\.wdm\\drivers\\chromedriver\\win32\\91.0.4472.101\\chromedriver.exe] found in cache\n",
      "[WDM] - ====== WebDriver manager ======\n",
      "[WDM] - Current google-chrome version is 91.0.4472\n",
      "[WDM] - Get LATEST driver version for 91.0.4472\n",
      "[WDM] - Driver [C:\\Users\\miche\\.wdm\\drivers\\chromedriver\\win32\\91.0.4472.101\\chromedriver.exe] found in cache\n"
     ]
    },
    {
     "name": "stdout",
     "output_type": "stream",
     "text": [
      "\n",
      "\n"
     ]
    },
    {
     "name": "stderr",
     "output_type": "stream",
     "text": [
      "[WDM] - ====== WebDriver manager ======\n",
      "[WDM] - Current google-chrome version is 91.0.4472\n",
      "[WDM] - Get LATEST driver version for 91.0.4472\n",
      "[WDM] - Driver [C:\\Users\\miche\\.wdm\\drivers\\chromedriver\\win32\\91.0.4472.101\\chromedriver.exe] found in cache\n"
     ]
    },
    {
     "name": "stdout",
     "output_type": "stream",
     "text": [
      "\n",
      "\n",
      "Errore: Analyzer NON Creato, Riprovare!\n",
      "Fine\n",
      "Wall time: 1min 31s\n"
     ]
    }
   ],
   "source": [
    "%%time\n",
    "try:\n",
    "    if (sport.value != 'calcio' and bet_type.value != '12') or (sport.value == 'calcio' and bet_type.value == '12'):\n",
    "        print('Errore: coppia sport-bet_type non accettata!')\n",
    "        analyzer = None\n",
    "    else:\n",
    "        analyzer = SingleBetTypeAnalyzer(sport=sport.value, bet_type=bet_type.value, cluster=cluster, \n",
    "                                         offline=offline.value, live=live.value, headless=headless.value)\n",
    "    # analyzer = SingleBetTypeAnalyzer('basket', '12', cluster=cluster)\n",
    "except:\n",
    "    print(\"Errore: Analyzer NON Creato, Riprovare!\")\n",
    "    # analyzer.close()\n",
    "finally:\n",
    "    print('Fine')"
   ]
  },
  {
   "cell_type": "code",
   "execution_count": null,
   "id": "25a90c9b",
   "metadata": {},
   "outputs": [],
   "source": [
    "%%time\n",
    "df = analyzer.analyze_bets()\n",
    "clean_df(df, wealth)"
   ]
  },
  {
   "cell_type": "code",
   "execution_count": 4,
   "id": "d8e2cd6f",
   "metadata": {},
   "outputs": [
    {
     "data": {
      "text/html": [
       "<div>\n",
       "<style scoped>\n",
       "    .dataframe tbody tr th:only-of-type {\n",
       "        vertical-align: middle;\n",
       "    }\n",
       "\n",
       "    .dataframe tbody tr th {\n",
       "        vertical-align: top;\n",
       "    }\n",
       "\n",
       "    .dataframe thead th {\n",
       "        text-align: right;\n",
       "    }\n",
       "</style>\n",
       "<table border=\"1\" class=\"dataframe\">\n",
       "  <thead>\n",
       "    <tr style=\"text-align: right;\">\n",
       "      <th></th>\n",
       "      <th>club1</th>\n",
       "      <th>club2</th>\n",
       "      <th>date</th>\n",
       "      <th>scommessa</th>\n",
       "      <th>sito_punta</th>\n",
       "      <th>punta</th>\n",
       "      <th>sito_banca</th>\n",
       "      <th>banca</th>\n",
       "      <th>prob</th>\n",
       "      <th>ROI</th>\n",
       "      <th>puntata</th>\n",
       "      <th>bancata</th>\n",
       "    </tr>\n",
       "  </thead>\n",
       "  <tbody>\n",
       "    <tr>\n",
       "      <th>0</th>\n",
       "      <td>flamengo</td>\n",
       "      <td>paulo sao</td>\n",
       "      <td>2021-07-25</td>\n",
       "      <td>1</td>\n",
       "      <td>betflag</td>\n",
       "      <td>8.4</td>\n",
       "      <td>betfair</td>\n",
       "      <td>1.18</td>\n",
       "      <td>0.27159</td>\n",
       "      <td>1.4534</td>\n",
       "      <td>3.0</td>\n",
       "      <td>1.298969</td>\n",
       "    </tr>\n",
       "  </tbody>\n",
       "</table>\n",
       "</div>"
      ],
      "text/plain": [
       "      club1      club2        date scommessa sito_punta  punta sito_banca  \\\n",
       "0  flamengo  paulo sao  2021-07-25         1    betflag    8.4    betfair   \n",
       "\n",
       "   banca     prob     ROI  puntata   bancata  \n",
       "0   1.18  0.27159  1.4534      3.0  1.298969  "
      ]
     },
     "metadata": {},
     "output_type": "display_data"
    },
    {
     "ename": "KeyboardInterrupt",
     "evalue": "",
     "output_type": "error",
     "traceback": [
      "\u001b[1;31m---------------------------------------------------------------------------\u001b[0m",
      "\u001b[1;31mKeyboardInterrupt\u001b[0m                         Traceback (most recent call last)",
      "\u001b[1;32m<ipython-input-4-071406c9eb17>\u001b[0m in \u001b[0;36m<module>\u001b[1;34m\u001b[0m\n\u001b[0;32m      5\u001b[0m     \u001b[1;32mif\u001b[0m \u001b[0mlen\u001b[0m\u001b[1;33m(\u001b[0m\u001b[0mdf\u001b[0m\u001b[1;33m)\u001b[0m \u001b[1;33m>\u001b[0m \u001b[1;36m0\u001b[0m\u001b[1;33m:\u001b[0m\u001b[1;33m\u001b[0m\u001b[1;33m\u001b[0m\u001b[0m\n\u001b[0;32m      6\u001b[0m         \u001b[0mplay_beep\u001b[0m\u001b[1;33m(\u001b[0m\u001b[1;33m)\u001b[0m\u001b[1;33m\u001b[0m\u001b[1;33m\u001b[0m\u001b[0m\n\u001b[1;32m----> 7\u001b[1;33m         \u001b[0mtime\u001b[0m\u001b[1;33m.\u001b[0m\u001b[0msleep\u001b[0m\u001b[1;33m(\u001b[0m\u001b[1;36m50\u001b[0m\u001b[1;33m)\u001b[0m\u001b[1;33m\u001b[0m\u001b[1;33m\u001b[0m\u001b[0m\n\u001b[0m\u001b[0;32m      8\u001b[0m     \u001b[0mtime\u001b[0m\u001b[1;33m.\u001b[0m\u001b[0msleep\u001b[0m\u001b[1;33m(\u001b[0m\u001b[1;36m10\u001b[0m\u001b[1;33m)\u001b[0m\u001b[1;33m\u001b[0m\u001b[1;33m\u001b[0m\u001b[0m\n",
      "\u001b[1;31mKeyboardInterrupt\u001b[0m: "
     ]
    }
   ],
   "source": [
    "while True:\n",
    "    df = analyzer.analyze_bets()\n",
    "    clear_output()\n",
    "    display(clean_df(df, wealth))\n",
    "    if len(df) > 0:\n",
    "        play_beep()\n",
    "        time.sleep(50)\n",
    "    time.sleep(10)"
   ]
  },
  {
   "cell_type": "code",
   "execution_count": 6,
   "id": "instant-writer",
   "metadata": {},
   "outputs": [],
   "source": [
    "analyzer.close()"
   ]
  },
  {
   "cell_type": "code",
   "execution_count": null,
   "id": "542caf96-b24e-4222-bfeb-2fbecf384597",
   "metadata": {},
   "outputs": [],
   "source": [
    "cluster.close()"
   ]
  },
  {
   "cell_type": "code",
   "execution_count": 8,
   "id": "d216c6f9",
   "metadata": {},
   "outputs": [],
   "source": [
    "play_beep()"
   ]
  },
  {
   "cell_type": "code",
   "execution_count": null,
   "id": "e67fab84",
   "metadata": {},
   "outputs": [],
   "source": []
  },
  {
   "cell_type": "code",
   "execution_count": null,
   "id": "70f731c3",
   "metadata": {},
   "outputs": [],
   "source": []
  }
 ],
 "metadata": {
  "kernelspec": {
   "display_name": "webAutomation",
   "language": "python",
   "name": "webautomation"
  },
  "language_info": {
   "codemirror_mode": {
    "name": "ipython",
    "version": 3
   },
   "file_extension": ".py",
   "mimetype": "text/x-python",
   "name": "python",
   "nbconvert_exporter": "python",
   "pygments_lexer": "ipython3",
   "version": "3.9.1"
  }
 },
 "nbformat": 4,
 "nbformat_minor": 5
}
