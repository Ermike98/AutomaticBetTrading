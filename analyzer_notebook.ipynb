{
 "cells": [
  {
   "cell_type": "code",
   "execution_count": null,
   "id": "bored-steel",
   "metadata": {},
   "outputs": [
    {
     "data": {
      "application/vnd.jupyter.widget-view+json": {
       "model_id": "6f1e5cb43a4a423784c4e596c0dce266",
       "version_major": 2,
       "version_minor": 0
      },
      "text/plain": [
       "VBox(children=(HTML(value='<h2>LocalCluster</h2>'), HBox(children=(HTML(value='\\n<div>\\n  <style scoped>\\n    …"
      ]
     },
     "metadata": {},
     "output_type": "display_data"
    }
   ],
   "source": [
    "from single_bet_type_analyzer import SingleBetTypeAnalyzer\n",
    "from dask.distributed import LocalCluster\n",
    "from scrapers.betflag import BetflagScraper\n",
    "from scrapers.betfair import BetfairScraper\n",
    "import pandas as pd\n",
    "import seaborn as sns\n",
    "import matplotlib.pyplot as plt\n",
    "import ipywidgets as widgets\n",
    "from IPython.display import display, clear_output\n",
    "import winsound\n",
    "import time\n",
    "\n",
    "def play_beep():\n",
    "    for i in range(3):\n",
    "        for j in range(2):\n",
    "            winsound.Beep(1000, 100)\n",
    "            time.sleep(0.05)\n",
    "        time.sleep(0.7)\n",
    "\n",
    "cluster = LocalCluster(processes=False)\n",
    "cluster"
   ]
  },
  {
   "cell_type": "code",
   "execution_count": 2,
   "id": "1429b314-0b9c-4c2b-9e7f-258dc0e0c56a",
   "metadata": {},
   "outputs": [
    {
     "data": {
      "application/vnd.jupyter.widget-view+json": {
       "model_id": "7a6d78fcd12845b4be6db8b051d07314",
       "version_major": 2,
       "version_minor": 0
      },
      "text/plain": [
       "VBox(children=(Dropdown(description='Sport:', options=('calcio', 'tennis', 'basket'), value='calcio'), Dropdow…"
      ]
     },
     "metadata": {},
     "output_type": "display_data"
    }
   ],
   "source": [
    "sport = widgets.Dropdown(\n",
    "    options=['calcio', 'tennis', 'basket'],\n",
    "    value='calcio',\n",
    "    description='Sport:',\n",
    "    disabled=False,\n",
    ")\n",
    "bet_type = widgets.Dropdown(\n",
    "    options=['1x2', '12', 'uo1.5', 'uo2.5', 'uo3.5', 'uo4.5'],\n",
    "    value='1x2',\n",
    "    description='Bet Type:',\n",
    "    disabled=False,\n",
    ")\n",
    "offline = widgets.Checkbox(\n",
    "    value=True,\n",
    "    description='Non-Live',\n",
    "    disabled=False\n",
    ")\n",
    "\n",
    "live = widgets.Checkbox(\n",
    "    value=True,\n",
    "    description='Live',\n",
    "    disabled=False\n",
    ")\n",
    "\n",
    "headless = widgets.Checkbox(\n",
    "    value=True,\n",
    "    description='Headless',\n",
    "    disabled=False\n",
    ")\n",
    "widgets.VBox([sport, bet_type, offline, live, headless])"
   ]
  },
  {
   "cell_type": "code",
   "execution_count": 3,
   "id": "entire-singles",
   "metadata": {},
   "outputs": [
    {
     "name": "stderr",
     "output_type": "stream",
     "text": [
      "[WDM] - ====== WebDriver manager ======\n",
      "[WDM] - Current google-chrome version is 90.0.4430\n",
      "[WDM] - Get LATEST driver version for 90.0.4430\n"
     ]
    },
    {
     "name": "stdout",
     "output_type": "stream",
     "text": [
      "\n",
      "\n"
     ]
    },
    {
     "name": "stderr",
     "output_type": "stream",
     "text": [
      "[WDM] - Driver [C:\\Users\\miche\\.wdm\\drivers\\chromedriver\\win32\\90.0.4430.24\\chromedriver.exe] found in cache\n",
      "[WDM] - ====== WebDriver manager ======\n",
      "[WDM] - Current google-chrome version is 90.0.4430\n",
      "[WDM] - Get LATEST driver version for 90.0.4430\n"
     ]
    },
    {
     "name": "stdout",
     "output_type": "stream",
     "text": [
      "\n",
      "\n"
     ]
    },
    {
     "name": "stderr",
     "output_type": "stream",
     "text": [
      "[WDM] - Driver [C:\\Users\\miche\\.wdm\\drivers\\chromedriver\\win32\\90.0.4430.24\\chromedriver.exe] found in cache\n",
      "[WDM] - ====== WebDriver manager ======\n",
      "[WDM] - Current google-chrome version is 90.0.4430\n",
      "[WDM] - Get LATEST driver version for 90.0.4430\n",
      "[WDM] - Driver [C:\\Users\\miche\\.wdm\\drivers\\chromedriver\\win32\\90.0.4430.24\\chromedriver.exe] found in cache\n"
     ]
    },
    {
     "name": "stdout",
     "output_type": "stream",
     "text": [
      "\n",
      "\n",
      "Fine\n"
     ]
    },
    {
     "ename": "NameError",
     "evalue": "name 'analyzer' is not defined",
     "output_type": "error",
     "traceback": [
      "\u001b[1;31m---------------------------------------------------------------------------\u001b[0m",
      "\u001b[1;31mElementClickInterceptedException\u001b[0m          Traceback (most recent call last)",
      "\u001b[1;32m<timed exec>\u001b[0m in \u001b[0;36m<module>\u001b[1;34m\u001b[0m\n",
      "\u001b[1;32m~\\OneDrive\\Desktop\\AutomaticBetTrading\\single_bet_type_analyzer.py\u001b[0m in \u001b[0;36m__init__\u001b[1;34m(self, sport, bet_type, cluster, live, offline, headless)\u001b[0m\n\u001b[0;32m     42\u001b[0m         self.bettors = dict(zip(self.sites,\n\u001b[1;32m---> 43\u001b[1;33m                                 [create_site_scraper(site, sport=sport,\n\u001b[0m\u001b[0;32m     44\u001b[0m                                                      \u001b[0mbet_type\u001b[0m\u001b[1;33m=\u001b[0m\u001b[0mbet_type\u001b[0m\u001b[1;33m,\u001b[0m \u001b[0mcluster\u001b[0m\u001b[1;33m=\u001b[0m\u001b[0mcluster\u001b[0m\u001b[1;33m,\u001b[0m\u001b[1;33m\u001b[0m\u001b[1;33m\u001b[0m\u001b[0m\n",
      "\u001b[1;32m~\\OneDrive\\Desktop\\AutomaticBetTrading\\single_bet_type_analyzer.py\u001b[0m in \u001b[0;36m<listcomp>\u001b[1;34m(.0)\u001b[0m\n\u001b[0;32m     42\u001b[0m         self.bettors = dict(zip(self.sites,\n\u001b[1;32m---> 43\u001b[1;33m                                 [create_site_scraper(site, sport=sport,\n\u001b[0m\u001b[0;32m     44\u001b[0m                                                      \u001b[0mbet_type\u001b[0m\u001b[1;33m=\u001b[0m\u001b[0mbet_type\u001b[0m\u001b[1;33m,\u001b[0m \u001b[0mcluster\u001b[0m\u001b[1;33m=\u001b[0m\u001b[0mcluster\u001b[0m\u001b[1;33m,\u001b[0m\u001b[1;33m\u001b[0m\u001b[1;33m\u001b[0m\u001b[0m\n",
      "\u001b[1;32m~\\OneDrive\\Desktop\\AutomaticBetTrading\\single_bet_type_analyzer.py\u001b[0m in \u001b[0;36mcreate_site_scraper\u001b[1;34m(site_name, sport, bet_type, cluster, live, offline, headless)\u001b[0m\n\u001b[0;32m     23\u001b[0m         \u001b[1;32mreturn\u001b[0m \u001b[1;32mNone\u001b[0m\u001b[1;33m\u001b[0m\u001b[1;33m\u001b[0m\u001b[0m\n\u001b[1;32m---> 24\u001b[1;33m     return classes[site_name](sport=sport, bet_type=bet_type, cluster=cluster,\n\u001b[0m\u001b[0;32m     25\u001b[0m                               live=live, offline=offline, headless=headless)\n",
      "\u001b[1;32m~\\OneDrive\\Desktop\\AutomaticBetTrading\\scrapers\\betflag.py\u001b[0m in \u001b[0;36m__init__\u001b[1;34m(self, sport, bet_type, max_additional_data, cluster, offline, live, headless)\u001b[0m\n\u001b[0;32m    160\u001b[0m         \u001b[1;31m# Setup the driver\u001b[0m\u001b[1;33m\u001b[0m\u001b[1;33m\u001b[0m\u001b[1;33m\u001b[0m\u001b[0m\n\u001b[1;32m--> 161\u001b[1;33m         \u001b[0mself\u001b[0m\u001b[1;33m.\u001b[0m\u001b[0msetup_drivers\u001b[0m\u001b[1;33m(\u001b[0m\u001b[0msport\u001b[0m\u001b[1;33m=\u001b[0m\u001b[0msport\u001b[0m\u001b[1;33m,\u001b[0m \u001b[0mbet_type\u001b[0m\u001b[1;33m=\u001b[0m\u001b[0mbet_type\u001b[0m\u001b[1;33m)\u001b[0m\u001b[1;33m\u001b[0m\u001b[1;33m\u001b[0m\u001b[0m\n\u001b[0m\u001b[0;32m    162\u001b[0m         \u001b[0mself\u001b[0m\u001b[1;33m.\u001b[0m\u001b[0mlast_refresh\u001b[0m \u001b[1;33m=\u001b[0m \u001b[0mdatetime\u001b[0m\u001b[1;33m.\u001b[0m\u001b[0mdatetime\u001b[0m\u001b[1;33m.\u001b[0m\u001b[0mnow\u001b[0m\u001b[1;33m(\u001b[0m\u001b[1;33m)\u001b[0m\u001b[1;33m\u001b[0m\u001b[1;33m\u001b[0m\u001b[0m\n",
      "\u001b[1;32m~\\OneDrive\\Desktop\\AutomaticBetTrading\\scrapers\\betflag.py\u001b[0m in \u001b[0;36msetup_drivers\u001b[1;34m(self, sport, bet_type)\u001b[0m\n\u001b[0;32m    200\u001b[0m             \u001b[1;32mtry\u001b[0m\u001b[1;33m:\u001b[0m\u001b[1;33m\u001b[0m\u001b[1;33m\u001b[0m\u001b[0m\n\u001b[1;32m--> 201\u001b[1;33m                 \u001b[0mself\u001b[0m\u001b[1;33m.\u001b[0m\u001b[0mdriver\u001b[0m\u001b[1;33m.\u001b[0m\u001b[0mfind_element_by_xpath\u001b[0m\u001b[1;33m(\u001b[0m\u001b[1;34m'//*[@id=\"PromoPopup\"]/div[2]/div[2]'\u001b[0m\u001b[1;33m)\u001b[0m\u001b[1;33m.\u001b[0m\u001b[0mclick\u001b[0m\u001b[1;33m(\u001b[0m\u001b[1;33m)\u001b[0m\u001b[1;33m\u001b[0m\u001b[1;33m\u001b[0m\u001b[0m\n\u001b[0m\u001b[0;32m    202\u001b[0m             \u001b[1;32mexcept\u001b[0m \u001b[0mNoSuchElementException\u001b[0m\u001b[1;33m:\u001b[0m\u001b[1;33m\u001b[0m\u001b[1;33m\u001b[0m\u001b[0m\n",
      "\u001b[1;32m~\\anaconda3\\envs\\webautomation\\lib\\site-packages\\selenium\\webdriver\\remote\\webelement.py\u001b[0m in \u001b[0;36mclick\u001b[1;34m(self)\u001b[0m\n\u001b[0;32m     79\u001b[0m         \u001b[1;34m\"\"\"Clicks the element.\"\"\"\u001b[0m\u001b[1;33m\u001b[0m\u001b[1;33m\u001b[0m\u001b[0m\n\u001b[1;32m---> 80\u001b[1;33m         \u001b[0mself\u001b[0m\u001b[1;33m.\u001b[0m\u001b[0m_execute\u001b[0m\u001b[1;33m(\u001b[0m\u001b[0mCommand\u001b[0m\u001b[1;33m.\u001b[0m\u001b[0mCLICK_ELEMENT\u001b[0m\u001b[1;33m)\u001b[0m\u001b[1;33m\u001b[0m\u001b[1;33m\u001b[0m\u001b[0m\n\u001b[0m\u001b[0;32m     81\u001b[0m \u001b[1;33m\u001b[0m\u001b[0m\n",
      "\u001b[1;32m~\\anaconda3\\envs\\webautomation\\lib\\site-packages\\selenium\\webdriver\\remote\\webelement.py\u001b[0m in \u001b[0;36m_execute\u001b[1;34m(self, command, params)\u001b[0m\n\u001b[0;32m    632\u001b[0m         \u001b[0mparams\u001b[0m\u001b[1;33m[\u001b[0m\u001b[1;34m'id'\u001b[0m\u001b[1;33m]\u001b[0m \u001b[1;33m=\u001b[0m \u001b[0mself\u001b[0m\u001b[1;33m.\u001b[0m\u001b[0m_id\u001b[0m\u001b[1;33m\u001b[0m\u001b[1;33m\u001b[0m\u001b[0m\n\u001b[1;32m--> 633\u001b[1;33m         \u001b[1;32mreturn\u001b[0m \u001b[0mself\u001b[0m\u001b[1;33m.\u001b[0m\u001b[0m_parent\u001b[0m\u001b[1;33m.\u001b[0m\u001b[0mexecute\u001b[0m\u001b[1;33m(\u001b[0m\u001b[0mcommand\u001b[0m\u001b[1;33m,\u001b[0m \u001b[0mparams\u001b[0m\u001b[1;33m)\u001b[0m\u001b[1;33m\u001b[0m\u001b[1;33m\u001b[0m\u001b[0m\n\u001b[0m\u001b[0;32m    634\u001b[0m \u001b[1;33m\u001b[0m\u001b[0m\n",
      "\u001b[1;32m~\\anaconda3\\envs\\webautomation\\lib\\site-packages\\selenium\\webdriver\\remote\\webdriver.py\u001b[0m in \u001b[0;36mexecute\u001b[1;34m(self, driver_command, params)\u001b[0m\n\u001b[0;32m    320\u001b[0m         \u001b[1;32mif\u001b[0m \u001b[0mresponse\u001b[0m\u001b[1;33m:\u001b[0m\u001b[1;33m\u001b[0m\u001b[1;33m\u001b[0m\u001b[0m\n\u001b[1;32m--> 321\u001b[1;33m             \u001b[0mself\u001b[0m\u001b[1;33m.\u001b[0m\u001b[0merror_handler\u001b[0m\u001b[1;33m.\u001b[0m\u001b[0mcheck_response\u001b[0m\u001b[1;33m(\u001b[0m\u001b[0mresponse\u001b[0m\u001b[1;33m)\u001b[0m\u001b[1;33m\u001b[0m\u001b[1;33m\u001b[0m\u001b[0m\n\u001b[0m\u001b[0;32m    322\u001b[0m             response['value'] = self._unwrap_value(\n",
      "\u001b[1;32m~\\anaconda3\\envs\\webautomation\\lib\\site-packages\\selenium\\webdriver\\remote\\errorhandler.py\u001b[0m in \u001b[0;36mcheck_response\u001b[1;34m(self, response)\u001b[0m\n\u001b[0;32m    241\u001b[0m             \u001b[1;32mraise\u001b[0m \u001b[0mexception_class\u001b[0m\u001b[1;33m(\u001b[0m\u001b[0mmessage\u001b[0m\u001b[1;33m,\u001b[0m \u001b[0mscreen\u001b[0m\u001b[1;33m,\u001b[0m \u001b[0mstacktrace\u001b[0m\u001b[1;33m,\u001b[0m \u001b[0malert_text\u001b[0m\u001b[1;33m)\u001b[0m\u001b[1;33m\u001b[0m\u001b[1;33m\u001b[0m\u001b[0m\n\u001b[1;32m--> 242\u001b[1;33m         \u001b[1;32mraise\u001b[0m \u001b[0mexception_class\u001b[0m\u001b[1;33m(\u001b[0m\u001b[0mmessage\u001b[0m\u001b[1;33m,\u001b[0m \u001b[0mscreen\u001b[0m\u001b[1;33m,\u001b[0m \u001b[0mstacktrace\u001b[0m\u001b[1;33m)\u001b[0m\u001b[1;33m\u001b[0m\u001b[1;33m\u001b[0m\u001b[0m\n\u001b[0m\u001b[0;32m    243\u001b[0m \u001b[1;33m\u001b[0m\u001b[0m\n",
      "\u001b[1;31mElementClickInterceptedException\u001b[0m: Message: element click intercepted: Element <div class=\"btn-close\">...</div> is not clickable at point (517, 470). Other element would receive the click: <div class=\"cookie-layer\"></div>\n  (Session info: chrome=90.0.4430.212)\n",
      "\nDuring handling of the above exception, another exception occurred:\n",
      "\u001b[1;31mNameError\u001b[0m                                 Traceback (most recent call last)",
      "\u001b[1;32m<timed exec>\u001b[0m in \u001b[0;36m<module>\u001b[1;34m\u001b[0m\n",
      "\u001b[1;31mNameError\u001b[0m: name 'analyzer' is not defined"
     ]
    }
   ],
   "source": [
    "%%time\n",
    "try:\n",
    "    if (sport.value != 'calcio' and bet_type.value != '12') or (sport.value == 'calcio' and bet_type.value == '12'):\n",
    "        print('Error: coppia sport-bet_type non accettata!')\n",
    "        analyzer = None\n",
    "    else:\n",
    "        analyzer = SingleBetTypeAnalyzer(sport=sport.value, bet_type=bet_type.value, cluster=cluster, \n",
    "                                         offline=offline.value, live=live.value, headless=headless.value)\n",
    "    # analyzer = SingleBetTypeAnalyzer('basket', '12', cluster=cluster)\n",
    "except:\n",
    "    analyzer.close()\n",
    "finally:\n",
    "    print('Fine')"
   ]
  },
  {
   "cell_type": "code",
   "execution_count": null,
   "id": "equivalent-disorder",
   "metadata": {},
   "outputs": [],
   "source": [
    "%%time\n",
    "df = analyzer.analyze_bets()"
   ]
  },
  {
   "cell_type": "code",
   "execution_count": null,
   "id": "d8e2cd6f",
   "metadata": {},
   "outputs": [],
   "source": [
    "while True:\n",
    "    df = analyzer.analyze_bets()\n",
    "    clear_output()\n",
    "    display(df)\n",
    "    if len(df) > 0:\n",
    "        play_beep()\n",
    "        time.sleep(50)\n",
    "    time.sleep(10)"
   ]
  },
  {
   "cell_type": "code",
   "execution_count": null,
   "id": "instant-writer",
   "metadata": {},
   "outputs": [],
   "source": [
    "analyzer.close()"
   ]
  },
  {
   "cell_type": "code",
   "execution_count": null,
   "id": "542caf96-b24e-4222-bfeb-2fbecf384597",
   "metadata": {},
   "outputs": [],
   "source": [
    "cluster.close()"
   ]
  },
  {
   "cell_type": "code",
   "execution_count": null,
   "id": "d216c6f9",
   "metadata": {},
   "outputs": [],
   "source": []
  }
 ],
 "metadata": {
  "kernelspec": {
   "display_name": "webAutomation",
   "language": "python",
   "name": "webautomation"
  },
  "language_info": {
   "codemirror_mode": {
    "name": "ipython",
    "version": 3
   },
   "file_extension": ".py",
   "mimetype": "text/x-python",
   "name": "python",
   "nbconvert_exporter": "python",
   "pygments_lexer": "ipython3",
   "version": "3.9.1"
  }
 },
 "nbformat": 4,
 "nbformat_minor": 5
}
